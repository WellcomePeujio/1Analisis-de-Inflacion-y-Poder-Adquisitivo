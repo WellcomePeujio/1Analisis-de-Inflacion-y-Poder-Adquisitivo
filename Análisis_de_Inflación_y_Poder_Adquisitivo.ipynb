{
  "nbformat": 4,
  "nbformat_minor": 0,
  "metadata": {
    "colab": {
      "private_outputs": true,
      "provenance": [],
      "authorship_tag": "ABX9TyMKhaUD3H9cG9RNJq2hU+Y3",
      "include_colab_link": true
    },
    "kernelspec": {
      "name": "python3",
      "display_name": "Python 3"
    },
    "language_info": {
      "name": "python"
    }
  },
  "cells": [
    {
      "cell_type": "markdown",
      "metadata": {
        "id": "view-in-github",
        "colab_type": "text"
      },
      "source": [
        "<a href=\"https://colab.research.google.com/github/WellcomePeujio/1Analisis-de-Inflacion-y-Poder-Adquisitivo/blob/main/An%C3%A1lisis_de_Inflaci%C3%B3n_y_Poder_Adquisitivo.ipynb\" target=\"_parent\"><img src=\"https://colab.research.google.com/assets/colab-badge.svg\" alt=\"Open In Colab\"/></a>"
      ]
    },
    {
      "cell_type": "markdown",
      "source": [
        "# Análisis de Inflación y Poder Adquisitivo\n",
        "\n",
        "**Problema**: El índice de precios al consumidor (IPC) ha crecido un **5%** anual en los últimos **3 años**. Un producto costaba **$1,000** hace 3 años.\n",
        "\n",
        "**Preguntas**:\n",
        "\n",
        "1. Calcula el precio actual del producto ajustado por inflación.  \n",
        "\n",
        "2. Determina cuánto poder adquisitivo se ha perdido si el salario promedio ha crecido solo un **3%** anual en el mismo período.  \n"
      ],
      "metadata": {
        "id": "AatAjGd39Ryp"
      }
    },
    {
      "cell_type": "markdown",
      "source": [
        "# Resolución del Análisis de Inflación y Poder Adquisitivo\n",
        "\n",
        "## Paso 1: Cálculo del Precio Actual Ajustado por Inflación\n",
        "\n",
        "La fórmula para calcular el precio ajustado por inflación es:\n",
        "\n",
        "$$\n",
        "P_t = P_0 \\cdot (1 + r)^n\n",
        "$$\n",
        "\n",
        "Donde:  \n",
        "- $P_t$: Precio actual del producto.  \n",
        "- $P_0 = 1000$: Precio inicial del producto.  \n",
        "- $r = 0.05$: Tasa de inflación anual (5%).  \n",
        "- $n = 3$: Número de años.  \n",
        "\n",
        "Sustituyendo los valores:\n",
        "\n",
        "$$\n",
        "P_t = 1000 \\cdot (1 + 0.05)^3\n",
        "$$\n",
        "\n",
        "$$\n",
        "P_t = 1000 \\cdot (1.157625) = 1157.63\n",
        "$$\n",
        "\n",
        "Por lo tanto, el precio actual ajustado por inflación es **$1157.63**.\n",
        "\n",
        "---\n",
        "\n",
        "## Paso 2: Cálculo del Salario Ajustado por Crecimiento\n",
        "\n",
        "Usamos la misma fórmula para calcular el crecimiento salarial:\n",
        "\n",
        "$$\n",
        "S_t = S_0 \\cdot (1 + g)^n\n",
        "$$\n",
        "\n",
        "Donde:  \n",
        "- $S_t$: Salario actual ajustado.  \n",
        "- $S_0 = 1000$: Salario inicial equivalente al precio del producto.  \n",
        "- $g = 0.03$: Tasa de crecimiento salarial anual (3%).  \n",
        "- $n = 3$: Número de años.  \n",
        "\n",
        "Sustituyendo los valores:\n",
        "\n",
        "$$\n",
        "S_t = 1000 \\cdot (1 + 0.03)^3\n",
        "$$\n",
        "\n",
        "$$\n",
        "S_t = 1000 \\cdot (1.092727) = 1092.73\n",
        "$$\n",
        "\n",
        "El salario ajustado por crecimiento es **$1092.73**.\n",
        "\n",
        "---\n",
        "\n",
        "## Paso 3: Pérdida de Poder Adquisitivo\n",
        "\n",
        "La pérdida de poder adquisitivo se calcula como la diferencia porcentual entre el crecimiento del salario y el aumento del precio:\n",
        "\n",
        "$$\n",
        "\\text{Pérdida (\\%)} = \\frac{P_t - S_t}{P_t} \\cdot 100\n",
        "$$\n",
        "\n",
        "Sustituyendo los valores:\n",
        "\n",
        "$$\n",
        "\\text{Pérdida (\\%)} = \\frac{1157.63 - 1092.73}{1157.63} \\cdot 100\n",
        "$$\n",
        "\n",
        "$$\n",
        "\\text{Pérdida (\\%)} = \\frac{64.90}{1157.63} \\cdot 100 \\approx 5.61\\%\n",
        "$$\n",
        "\n",
        "---\n",
        "\n",
        "## Conclusión\n",
        "\n",
        "1. El precio actual ajustado por inflación es aproximadamente **$1157.63**.\n",
        "  \n",
        "2. El salario ajustado solo creció a **$1092.73**, generando una pérdida de poder adquisitivo aproximada del **5.61%** en 3 años.  \n"
      ],
      "metadata": {
        "id": "N4JY0S9i9Xx9"
      }
    },
    {
      "cell_type": "code",
      "source": [
        "import numpy as np\n",
        "import matplotlib.pyplot as plt\n",
        "\n",
        "# Datos del problema\n",
        "precio_inicial = 1000  # Precio inicial del producto\n",
        "salario_inicial = 1000  # Salario inicial equivalente al precio del producto\n",
        "inflacion = 0.05  # Tasa de inflación anual (5%)\n",
        "crecimiento_salarial = 0.03  # Tasa de crecimiento salarial anual (3%)\n",
        "anios = np.arange(0, 4)  # Periodo de 0 a 3 años\n",
        "\n",
        "# Cálculo del precio ajustado por inflación\n",
        "precio_ajustado = precio_inicial * (1 + inflacion) ** anios\n",
        "\n",
        "# Cálculo del salario ajustado por crecimiento\n",
        "salario_ajustado = salario_inicial * (1 + crecimiento_salarial) ** anios\n",
        "\n",
        "# Crear la gráfica\n",
        "plt.figure(figsize=(10, 6))\n",
        "plt.plot(anios, precio_ajustado, marker='o', label='Precio Ajustado por Inflación', color='blue')\n",
        "plt.plot(anios, salario_ajustado, marker='s', label='Salario Ajustado por Crecimiento', color='green')\n",
        "plt.xlabel('Años')\n",
        "plt.ylabel('Valor ($)')\n",
        "plt.title('Evolución del Precio y el Salario Ajustados')\n",
        "plt.axhline(precio_ajustado[-1], color=\"blue\", linestyle=\"--\", label=f'Precio Final: ${precio_ajustado[-1]:.2f}')\n",
        "plt.axhline(salario_ajustado[-1], color=\"green\", linestyle=\"--\", label=f'Salario Final: ${salario_ajustado[-1]:.2f}')\n",
        "plt.legend()\n",
        "plt.grid(True)\n",
        "plt.show()\n"
      ],
      "metadata": {
        "id": "QFKCJrtc92v-"
      },
      "execution_count": null,
      "outputs": []
    }
  ]
}